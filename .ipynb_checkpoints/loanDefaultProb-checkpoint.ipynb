{
 "cells": [
  {
   "cell_type": "markdown",
   "id": "16f3541b-4132-4092-9ae5-5d6c37dae1f0",
   "metadata": {},
   "source": [
    "Predict Loan Default With Logistic Regression"
   ]
  },
  {
   "cell_type": "code",
   "execution_count": 4,
   "id": "c48e7d4e-d3be-4257-be0b-ae34fa7d1a22",
   "metadata": {},
   "outputs": [],
   "source": [
    "#import packages\n",
    "import warnings\n",
    "import numpy as np\n",
    "import seaborn as sns\n",
    "import pandas as pd\n",
    "import matplotlib.pyplot as plt\n",
    "import statsmodels.api as sm\n",
    "from statsmodels.formula.api import ols\n",
    "from statsmodels.formula.api import logit\n",
    "from scipy.stats import norm\n",
    "from sklearn.model_selection import train_test_split\n",
    "from sklearn.metrics import ConfusionMatrixDisplay\n",
    "from sklearn.metrics import confusion_matrix\n",
    "from sklearn.metrics import accuracy_score\n",
    "import sklearn \n",
    " \n"
   ]
  },
  {
   "cell_type": "code",
   "execution_count": 34,
   "id": "d89348b0-6215-415c-be6f-558f1630ab2e",
   "metadata": {},
   "outputs": [],
   "source": [
    "#Read the data into a dataframe \n",
    "df= pd.read_csv(\"loans.csv\")"
   ]
  },
  {
   "cell_type": "code",
   "execution_count": 35,
   "id": "ce87abab-9dfc-485d-9aa9-0c8c40c57b7f",
   "metadata": {},
   "outputs": [
    {
     "name": "stdout",
     "output_type": "stream",
     "text": [
      "   default  installment  log_income  fico_score  rev_balance  inquiries  \\\n",
      "0        0          829        4.93         737        28.85          0   \n",
      "1        0          228        4.81         707        33.62          0   \n",
      "2        0          367        4.51         682         3.51          1   \n",
      "3        0          162        4.93         712        33.67          1   \n",
      "4        0          103        4.91         667         4.74          0   \n",
      "\n",
      "   records  \n",
      "0        0  \n",
      "1        0  \n",
      "2        0  \n",
      "3        0  \n",
      "4        0  \n",
      "      default  installment  log_income  fico_score  rev_balance  inquiries  \\\n",
      "9511        1          345        5.29         672       215.37          2   \n",
      "9512        1          258        4.84         722         0.18          5   \n",
      "9513        1           98        4.60         687        10.04          8   \n",
      "9514        1          352        4.70         692         0.00          5   \n",
      "9515        1          853        4.89         732        37.88          6   \n",
      "\n",
      "      records  \n",
      "9511        0  \n",
      "9512        0  \n",
      "9513        0  \n",
      "9514        0  \n",
      "9515        0  \n"
     ]
    }
   ],
   "source": [
    "#inspect data\n",
    "print(df.head())\n",
    "print(df.tail())"
   ]
  },
  {
   "cell_type": "code",
   "execution_count": 8,
   "id": "3d3fdb76-95b1-4683-8d67-6266d714bb9a",
   "metadata": {},
   "outputs": [],
   "source": [
    "#extract the depenedent variable default and the independent variable fico_score, which will be used to build a simple logit model\n",
    "#df = df[['default', 'fico_score']]"
   ]
  },
  {
   "cell_type": "code",
   "execution_count": 36,
   "id": "1893836c-5b97-421b-818b-20c2849a7ada",
   "metadata": {},
   "outputs": [
    {
     "name": "stdout",
     "output_type": "stream",
     "text": [
      "\n",
      "Result dataframe:\n",
      "       default  installment  log_income  fico_score  rev_balance  inquiries  \\\n",
      "6           1          194        4.65         667         3.84          0   \n",
      "7           1          131        4.78         722        24.22          0   \n",
      "57          1          678        5.16         682        41.67          0   \n",
      "65          1           33        4.53         687         4.49          1   \n",
      "73          1          225        5.33         677        56.41          0   \n",
      "...       ...          ...         ...         ...          ...        ...   \n",
      "9511        1          345        5.29         672       215.37          2   \n",
      "9512        1          258        4.84         722         0.18          5   \n",
      "9513        1           98        4.60         687        10.04          8   \n",
      "9514        1          352        4.70         692         0.00          5   \n",
      "9515        1          853        4.89         732        37.88          6   \n",
      "\n",
      "      records  \n",
      "6           1  \n",
      "7           0  \n",
      "57          0  \n",
      "65          0  \n",
      "73          0  \n",
      "...       ...  \n",
      "9511        0  \n",
      "9512        0  \n",
      "9513        0  \n",
      "9514        0  \n",
      "9515        0  \n",
      "\n",
      "[1521 rows x 7 columns]\n"
     ]
    }
   ],
   "source": [
    "#extract all raws where there is a default i.e. defaul = 1\n",
    "default_df = df.loc[df['default']==1]\n",
    "print('\\nResult dataframe:\\n', default_df)"
   ]
  },
  {
   "cell_type": "code",
   "execution_count": 37,
   "id": "5e3410bc-f44f-45ef-9d2d-6a445eed0077",
   "metadata": {},
   "outputs": [
    {
     "name": "stdout",
     "output_type": "stream",
     "text": [
      "\n",
      "Result dataframe:\n",
      "       default  installment  log_income  fico_score  rev_balance  inquiries  \\\n",
      "0           0          829        4.93         737        28.85          0   \n",
      "1           0          228        4.81         707        33.62          0   \n",
      "2           0          367        4.51         682         3.51          1   \n",
      "3           0          162        4.93         712        33.67          1   \n",
      "4           0          103        4.91         667         4.74          0   \n",
      "...       ...          ...         ...         ...          ...        ...   \n",
      "9499        0          116        4.78         722        11.59          4   \n",
      "9500        0          509        4.75         717         8.76          6   \n",
      "9502        0          512        5.35         687       385.49          4   \n",
      "9505        0          101        4.76         687         1.51          5   \n",
      "9506        0           37        4.62         667        28.85          6   \n",
      "\n",
      "      records  \n",
      "0           0  \n",
      "1           0  \n",
      "2           0  \n",
      "3           0  \n",
      "4           0  \n",
      "...       ...  \n",
      "9499        0  \n",
      "9500        0  \n",
      "9502        0  \n",
      "9505        0  \n",
      "9506        1  \n",
      "\n",
      "[7995 rows x 7 columns]\n"
     ]
    }
   ],
   "source": [
    "#extract all raws where there was no default i.e. defaul = 0\n",
    "no_default_df= df.loc[df[\"default\"]==0]\n",
    "print('\\nResult dataframe:\\n', no_default_df)"
   ]
  },
  {
   "cell_type": "markdown",
   "id": "2fcd8d04-a903-4e60-8139-001614617acf",
   "metadata": {},
   "source": [
    "Examine the two dataframes:"
   ]
  },
  {
   "cell_type": "code",
   "execution_count": 38,
   "id": "cd27e72e-4d0e-421f-9f25-a055392fcc5e",
   "metadata": {},
   "outputs": [
    {
     "data": {
      "text/html": [
       "<div>\n",
       "<style scoped>\n",
       "    .dataframe tbody tr th:only-of-type {\n",
       "        vertical-align: middle;\n",
       "    }\n",
       "\n",
       "    .dataframe tbody tr th {\n",
       "        vertical-align: top;\n",
       "    }\n",
       "\n",
       "    .dataframe thead th {\n",
       "        text-align: right;\n",
       "    }\n",
       "</style>\n",
       "<table border=\"1\" class=\"dataframe\">\n",
       "  <thead>\n",
       "    <tr style=\"text-align: right;\">\n",
       "      <th></th>\n",
       "      <th>default</th>\n",
       "      <th>installment</th>\n",
       "      <th>log_income</th>\n",
       "      <th>fico_score</th>\n",
       "      <th>rev_balance</th>\n",
       "      <th>inquiries</th>\n",
       "      <th>records</th>\n",
       "    </tr>\n",
       "  </thead>\n",
       "  <tbody>\n",
       "    <tr>\n",
       "      <th>count</th>\n",
       "      <td>1521.0</td>\n",
       "      <td>1521.000000</td>\n",
       "      <td>1521.000000</td>\n",
       "      <td>1521.000000</td>\n",
       "      <td>1521.000000</td>\n",
       "      <td>1521.000000</td>\n",
       "      <td>1521.000000</td>\n",
       "    </tr>\n",
       "    <tr>\n",
       "      <th>mean</th>\n",
       "      <td>1.0</td>\n",
       "      <td>344.319527</td>\n",
       "      <td>4.730618</td>\n",
       "      <td>697.884287</td>\n",
       "      <td>21.232939</td>\n",
       "      <td>2.333991</td>\n",
       "      <td>0.092045</td>\n",
       "    </tr>\n",
       "    <tr>\n",
       "      <th>std</th>\n",
       "      <td>0.0</td>\n",
       "      <td>224.068429</td>\n",
       "      <td>0.286276</td>\n",
       "      <td>33.764233</td>\n",
       "      <td>50.066968</td>\n",
       "      <td>2.938440</td>\n",
       "      <td>0.293699</td>\n",
       "    </tr>\n",
       "    <tr>\n",
       "      <th>min</th>\n",
       "      <td>1.0</td>\n",
       "      <td>16.000000</td>\n",
       "      <td>3.300000</td>\n",
       "      <td>617.000000</td>\n",
       "      <td>0.000000</td>\n",
       "      <td>0.000000</td>\n",
       "      <td>0.000000</td>\n",
       "    </tr>\n",
       "    <tr>\n",
       "      <th>25%</th>\n",
       "      <td>1.0</td>\n",
       "      <td>169.000000</td>\n",
       "      <td>4.560000</td>\n",
       "      <td>672.000000</td>\n",
       "      <td>3.400000</td>\n",
       "      <td>0.000000</td>\n",
       "      <td>0.000000</td>\n",
       "    </tr>\n",
       "    <tr>\n",
       "      <th>50%</th>\n",
       "      <td>1.0</td>\n",
       "      <td>290.000000</td>\n",
       "      <td>4.730000</td>\n",
       "      <td>692.000000</td>\n",
       "      <td>8.940000</td>\n",
       "      <td>1.000000</td>\n",
       "      <td>0.000000</td>\n",
       "    </tr>\n",
       "    <tr>\n",
       "      <th>75%</th>\n",
       "      <td>1.0</td>\n",
       "      <td>492.000000</td>\n",
       "      <td>4.900000</td>\n",
       "      <td>717.000000</td>\n",
       "      <td>20.700000</td>\n",
       "      <td>3.000000</td>\n",
       "      <td>0.000000</td>\n",
       "    </tr>\n",
       "    <tr>\n",
       "      <th>max</th>\n",
       "      <td>1.0</td>\n",
       "      <td>927.000000</td>\n",
       "      <td>5.850000</td>\n",
       "      <td>822.000000</td>\n",
       "      <td>1207.360000</td>\n",
       "      <td>33.000000</td>\n",
       "      <td>2.000000</td>\n",
       "    </tr>\n",
       "  </tbody>\n",
       "</table>\n",
       "</div>"
      ],
      "text/plain": [
       "       default  installment   log_income   fico_score  rev_balance  \\\n",
       "count   1521.0  1521.000000  1521.000000  1521.000000  1521.000000   \n",
       "mean       1.0   344.319527     4.730618   697.884287    21.232939   \n",
       "std        0.0   224.068429     0.286276    33.764233    50.066968   \n",
       "min        1.0    16.000000     3.300000   617.000000     0.000000   \n",
       "25%        1.0   169.000000     4.560000   672.000000     3.400000   \n",
       "50%        1.0   290.000000     4.730000   692.000000     8.940000   \n",
       "75%        1.0   492.000000     4.900000   717.000000    20.700000   \n",
       "max        1.0   927.000000     5.850000   822.000000  1207.360000   \n",
       "\n",
       "         inquiries      records  \n",
       "count  1521.000000  1521.000000  \n",
       "mean      2.333991     0.092045  \n",
       "std       2.938440     0.293699  \n",
       "min       0.000000     0.000000  \n",
       "25%       0.000000     0.000000  \n",
       "50%       1.000000     0.000000  \n",
       "75%       3.000000     0.000000  \n",
       "max      33.000000     2.000000  "
      ]
     },
     "execution_count": 38,
     "metadata": {},
     "output_type": "execute_result"
    }
   ],
   "source": [
    "default_df.describe()\n"
   ]
  },
  {
   "cell_type": "code",
   "execution_count": 39,
   "id": "1090f641-306b-4926-80a3-7e5ad9ac2a9a",
   "metadata": {},
   "outputs": [
    {
     "data": {
      "text/html": [
       "<div>\n",
       "<style scoped>\n",
       "    .dataframe tbody tr th:only-of-type {\n",
       "        vertical-align: middle;\n",
       "    }\n",
       "\n",
       "    .dataframe tbody tr th {\n",
       "        vertical-align: top;\n",
       "    }\n",
       "\n",
       "    .dataframe thead th {\n",
       "        text-align: right;\n",
       "    }\n",
       "</style>\n",
       "<table border=\"1\" class=\"dataframe\">\n",
       "  <thead>\n",
       "    <tr style=\"text-align: right;\">\n",
       "      <th></th>\n",
       "      <th>default</th>\n",
       "      <th>installment</th>\n",
       "      <th>log_income</th>\n",
       "      <th>fico_score</th>\n",
       "      <th>rev_balance</th>\n",
       "      <th>inquiries</th>\n",
       "      <th>records</th>\n",
       "    </tr>\n",
       "  </thead>\n",
       "  <tbody>\n",
       "    <tr>\n",
       "      <th>count</th>\n",
       "      <td>7995.0</td>\n",
       "      <td>7995.000000</td>\n",
       "      <td>7995.000000</td>\n",
       "      <td>7995.000000</td>\n",
       "      <td>7995.000000</td>\n",
       "      <td>7995.000000</td>\n",
       "      <td>7995.000000</td>\n",
       "    </tr>\n",
       "    <tr>\n",
       "      <th>mean</th>\n",
       "      <td>0.0</td>\n",
       "      <td>315.542464</td>\n",
       "      <td>4.752088</td>\n",
       "      <td>713.307067</td>\n",
       "      <td>16.181555</td>\n",
       "      <td>1.428143</td>\n",
       "      <td>0.056535</td>\n",
       "    </tr>\n",
       "    <tr>\n",
       "      <th>std</th>\n",
       "      <td>0.0</td>\n",
       "      <td>203.361193</td>\n",
       "      <td>0.260654</td>\n",
       "      <td>38.209948</td>\n",
       "      <td>29.542831</td>\n",
       "      <td>1.997417</td>\n",
       "      <td>0.255646</td>\n",
       "    </tr>\n",
       "    <tr>\n",
       "      <th>min</th>\n",
       "      <td>0.0</td>\n",
       "      <td>16.000000</td>\n",
       "      <td>3.280000</td>\n",
       "      <td>612.000000</td>\n",
       "      <td>0.000000</td>\n",
       "      <td>0.000000</td>\n",
       "      <td>0.000000</td>\n",
       "    </tr>\n",
       "    <tr>\n",
       "      <th>25%</th>\n",
       "      <td>0.0</td>\n",
       "      <td>163.000000</td>\n",
       "      <td>4.600000</td>\n",
       "      <td>682.000000</td>\n",
       "      <td>3.250000</td>\n",
       "      <td>0.000000</td>\n",
       "      <td>0.000000</td>\n",
       "    </tr>\n",
       "    <tr>\n",
       "      <th>50%</th>\n",
       "      <td>0.0</td>\n",
       "      <td>268.000000</td>\n",
       "      <td>4.750000</td>\n",
       "      <td>707.000000</td>\n",
       "      <td>8.630000</td>\n",
       "      <td>1.000000</td>\n",
       "      <td>0.000000</td>\n",
       "    </tr>\n",
       "    <tr>\n",
       "      <th>75%</th>\n",
       "      <td>0.0</td>\n",
       "      <td>425.500000</td>\n",
       "      <td>4.910000</td>\n",
       "      <td>742.000000</td>\n",
       "      <td>18.000000</td>\n",
       "      <td>2.000000</td>\n",
       "      <td>0.000000</td>\n",
       "    </tr>\n",
       "    <tr>\n",
       "      <th>max</th>\n",
       "      <td>0.0</td>\n",
       "      <td>940.000000</td>\n",
       "      <td>6.310000</td>\n",
       "      <td>827.000000</td>\n",
       "      <td>952.010000</td>\n",
       "      <td>31.000000</td>\n",
       "      <td>5.000000</td>\n",
       "    </tr>\n",
       "  </tbody>\n",
       "</table>\n",
       "</div>"
      ],
      "text/plain": [
       "       default  installment   log_income   fico_score  rev_balance  \\\n",
       "count   7995.0  7995.000000  7995.000000  7995.000000  7995.000000   \n",
       "mean       0.0   315.542464     4.752088   713.307067    16.181555   \n",
       "std        0.0   203.361193     0.260654    38.209948    29.542831   \n",
       "min        0.0    16.000000     3.280000   612.000000     0.000000   \n",
       "25%        0.0   163.000000     4.600000   682.000000     3.250000   \n",
       "50%        0.0   268.000000     4.750000   707.000000     8.630000   \n",
       "75%        0.0   425.500000     4.910000   742.000000    18.000000   \n",
       "max        0.0   940.000000     6.310000   827.000000   952.010000   \n",
       "\n",
       "         inquiries      records  \n",
       "count  7995.000000  7995.000000  \n",
       "mean      1.428143     0.056535  \n",
       "std       1.997417     0.255646  \n",
       "min       0.000000     0.000000  \n",
       "25%       0.000000     0.000000  \n",
       "50%       1.000000     0.000000  \n",
       "75%       2.000000     0.000000  \n",
       "max      31.000000     5.000000  "
      ]
     },
     "execution_count": 39,
     "metadata": {},
     "output_type": "execute_result"
    }
   ],
   "source": [
    "no_default_df.describe()"
   ]
  },
  {
   "cell_type": "markdown",
   "id": "5dc847ff-7c1f-4084-900c-529ab3102418",
   "metadata": {},
   "source": [
    "View the relationship between default status and fico score in a scatter plot"
   ]
  },
  {
   "cell_type": "code",
   "execution_count": 40,
   "id": "aaea02fc-4ce3-47b3-a056-3c86e8cf151c",
   "metadata": {},
   "outputs": [
    {
     "data": {
      "image/png": "[encoded data removed]",
      "text/plain": [
       "<Figure size 640x480 with 1 Axes>"
      ]
     },
     "metadata": {},
     "output_type": "display_data"
    }
   ],
   "source": [
    "plot = plt.scatter(df['fico_score'], df['default'], alpha = 0.1, s = 200)\n",
    "points = plot.get_offsets()"
   ]
  },
  {
   "cell_type": "markdown",
   "id": "580e835f-9699-4811-b5c7-b9a7b31fbf19",
   "metadata": {},
   "source": [
    "Split the data into a train dataset and and a test set. "
   ]
  },
  {
   "cell_type": "code",
   "execution_count": 41,
   "id": "f0eff074-65da-4de3-9988-a4d0b12aff56",
   "metadata": {},
   "outputs": [],
   "source": [
    "#the train data set will contain 70% of the data, and the test dataset 30%\n",
    "df_train, df_test= train_test_split(df, test_size=0.3)"
   ]
  },
  {
   "cell_type": "code",
   "execution_count": 42,
   "id": "5f737b36-49bb-4321-a505-0255c0ad88f3",
   "metadata": {},
   "outputs": [
    {
     "data": {
      "text/html": [
       "<div>\n",
       "<style scoped>\n",
       "    .dataframe tbody tr th:only-of-type {\n",
       "        vertical-align: middle;\n",
       "    }\n",
       "\n",
       "    .dataframe tbody tr th {\n",
       "        vertical-align: top;\n",
       "    }\n",
       "\n",
       "    .dataframe thead th {\n",
       "        text-align: right;\n",
       "    }\n",
       "</style>\n",
       "<table border=\"1\" class=\"dataframe\">\n",
       "  <thead>\n",
       "    <tr style=\"text-align: right;\">\n",
       "      <th></th>\n",
       "      <th>default</th>\n",
       "      <th>installment</th>\n",
       "      <th>log_income</th>\n",
       "      <th>fico_score</th>\n",
       "      <th>rev_balance</th>\n",
       "      <th>inquiries</th>\n",
       "      <th>records</th>\n",
       "    </tr>\n",
       "  </thead>\n",
       "  <tbody>\n",
       "    <tr>\n",
       "      <th>count</th>\n",
       "      <td>6661.000000</td>\n",
       "      <td>6661.000000</td>\n",
       "      <td>6661.000000</td>\n",
       "      <td>6661.000000</td>\n",
       "      <td>6661.000000</td>\n",
       "      <td>6661.000000</td>\n",
       "      <td>6661.000000</td>\n",
       "    </tr>\n",
       "    <tr>\n",
       "      <th>mean</th>\n",
       "      <td>0.160486</td>\n",
       "      <td>321.031076</td>\n",
       "      <td>4.748655</td>\n",
       "      <td>710.811740</td>\n",
       "      <td>16.838832</td>\n",
       "      <td>1.563429</td>\n",
       "      <td>0.058250</td>\n",
       "    </tr>\n",
       "    <tr>\n",
       "      <th>std</th>\n",
       "      <td>0.367084</td>\n",
       "      <td>207.872398</td>\n",
       "      <td>0.263950</td>\n",
       "      <td>37.979013</td>\n",
       "      <td>32.368559</td>\n",
       "      <td>2.222275</td>\n",
       "      <td>0.250944</td>\n",
       "    </tr>\n",
       "    <tr>\n",
       "      <th>min</th>\n",
       "      <td>0.000000</td>\n",
       "      <td>16.000000</td>\n",
       "      <td>3.280000</td>\n",
       "      <td>612.000000</td>\n",
       "      <td>0.000000</td>\n",
       "      <td>0.000000</td>\n",
       "      <td>0.000000</td>\n",
       "    </tr>\n",
       "    <tr>\n",
       "      <th>25%</th>\n",
       "      <td>0.000000</td>\n",
       "      <td>164.000000</td>\n",
       "      <td>4.590000</td>\n",
       "      <td>682.000000</td>\n",
       "      <td>3.320000</td>\n",
       "      <td>0.000000</td>\n",
       "      <td>0.000000</td>\n",
       "    </tr>\n",
       "    <tr>\n",
       "      <th>50%</th>\n",
       "      <td>0.000000</td>\n",
       "      <td>269.000000</td>\n",
       "      <td>4.740000</td>\n",
       "      <td>707.000000</td>\n",
       "      <td>8.600000</td>\n",
       "      <td>1.000000</td>\n",
       "      <td>0.000000</td>\n",
       "    </tr>\n",
       "    <tr>\n",
       "      <th>75%</th>\n",
       "      <td>0.000000</td>\n",
       "      <td>438.000000</td>\n",
       "      <td>4.900000</td>\n",
       "      <td>737.000000</td>\n",
       "      <td>18.270000</td>\n",
       "      <td>2.000000</td>\n",
       "      <td>0.000000</td>\n",
       "    </tr>\n",
       "    <tr>\n",
       "      <th>max</th>\n",
       "      <td>1.000000</td>\n",
       "      <td>940.000000</td>\n",
       "      <td>6.310000</td>\n",
       "      <td>827.000000</td>\n",
       "      <td>1207.360000</td>\n",
       "      <td>33.000000</td>\n",
       "      <td>4.000000</td>\n",
       "    </tr>\n",
       "  </tbody>\n",
       "</table>\n",
       "</div>"
      ],
      "text/plain": [
       "           default  installment   log_income   fico_score  rev_balance  \\\n",
       "count  6661.000000  6661.000000  6661.000000  6661.000000  6661.000000   \n",
       "mean      0.160486   321.031076     4.748655   710.811740    16.838832   \n",
       "std       0.367084   207.872398     0.263950    37.979013    32.368559   \n",
       "min       0.000000    16.000000     3.280000   612.000000     0.000000   \n",
       "25%       0.000000   164.000000     4.590000   682.000000     3.320000   \n",
       "50%       0.000000   269.000000     4.740000   707.000000     8.600000   \n",
       "75%       0.000000   438.000000     4.900000   737.000000    18.270000   \n",
       "max       1.000000   940.000000     6.310000   827.000000  1207.360000   \n",
       "\n",
       "         inquiries      records  \n",
       "count  6661.000000  6661.000000  \n",
       "mean      1.563429     0.058250  \n",
       "std       2.222275     0.250944  \n",
       "min       0.000000     0.000000  \n",
       "25%       0.000000     0.000000  \n",
       "50%       1.000000     0.000000  \n",
       "75%       2.000000     0.000000  \n",
       "max      33.000000     4.000000  "
      ]
     },
     "execution_count": 42,
     "metadata": {},
     "output_type": "execute_result"
    }
   ],
   "source": [
    "df_train.describe()"
   ]
  },
  {
   "cell_type": "markdown",
   "id": "75347e89-ddbb-4871-b92f-8ad77859c056",
   "metadata": {},
   "source": [
    "Create a logit model using the train dataset"
   ]
  },
  {
   "cell_type": "code",
   "execution_count": 43,
   "id": "7a332a1b-c2cc-4ad6-ae75-dc50dbeccd7f",
   "metadata": {},
   "outputs": [
    {
     "name": "stdout",
     "output_type": "stream",
     "text": [
      "Optimization terminated successfully.\n",
      "         Current function value: 0.419115\n",
      "         Iterations 6\n",
      "                           Logit Regression Results                           \n",
      "==============================================================================\n",
      "Dep. Variable:                default   No. Observations:                 6661\n",
      "Model:                          Logit   Df Residuals:                     6654\n",
      "Method:                           MLE   Df Model:                            6\n",
      "Date:                Fri, 07 Feb 2025   Pseudo R-squ.:                 0.04849\n",
      "Time:                        10:05:43   Log-Likelihood:                -2791.7\n",
      "converged:                       True   LL-Null:                       -2934.0\n",
      "Covariance Type:            nonrobust   LLR p-value:                 1.657e-58\n",
      "===============================================================================\n",
      "                  coef    std err          z      P>|z|      [0.025      0.975]\n",
      "-------------------------------------------------------------------------------\n",
      "Intercept       8.7231      0.986      8.845      0.000       6.790      10.656\n",
      "installment     0.0012      0.000      6.321      0.000       0.001       0.002\n",
      "log_income     -0.9202      0.159     -5.805      0.000      -1.231      -0.610\n",
      "fico_score     -0.0095      0.001     -9.270      0.000      -0.012      -0.008\n",
      "rev_balance     0.0051      0.001      4.469      0.000       0.003       0.007\n",
      "inquiries       0.1157      0.014      8.373      0.000       0.089       0.143\n",
      "records         0.2784      0.118      2.357      0.018       0.047       0.510\n",
      "===============================================================================\n"
     ]
    }
   ],
   "source": [
    "formula = 'default~ installment + log_income + fico_score + rev_balance +inquiries + records'\n",
    "est= logit(formula=formula, data = df_train).fit()\n",
    "print(est.summary())"
   ]
  },
  {
   "cell_type": "markdown",
   "id": "c32702ff-8f68-49d2-8c53-c89cca53cf67",
   "metadata": {},
   "source": [
    "Test the model with the test dataset "
   ]
  },
  {
   "cell_type": "code",
   "execution_count": 44,
   "id": "2ae36d46-f9b7-4fa9-8059-cac43b0071b6",
   "metadata": {},
   "outputs": [
    {
     "data": {
      "text/html": [
       "<div>\n",
       "<style scoped>\n",
       "    .dataframe tbody tr th:only-of-type {\n",
       "        vertical-align: middle;\n",
       "    }\n",
       "\n",
       "    .dataframe tbody tr th {\n",
       "        vertical-align: top;\n",
       "    }\n",
       "\n",
       "    .dataframe thead th {\n",
       "        text-align: right;\n",
       "    }\n",
       "</style>\n",
       "<table border=\"1\" class=\"dataframe\">\n",
       "  <thead>\n",
       "    <tr style=\"text-align: right;\">\n",
       "      <th></th>\n",
       "      <th>default</th>\n",
       "      <th>installment</th>\n",
       "      <th>log_income</th>\n",
       "      <th>fico_score</th>\n",
       "      <th>rev_balance</th>\n",
       "      <th>inquiries</th>\n",
       "      <th>records</th>\n",
       "      <th>predicted_probability</th>\n",
       "    </tr>\n",
       "  </thead>\n",
       "  <tbody>\n",
       "    <tr>\n",
       "      <th>6384</th>\n",
       "      <td>1</td>\n",
       "      <td>476</td>\n",
       "      <td>5.06</td>\n",
       "      <td>702</td>\n",
       "      <td>27.02</td>\n",
       "      <td>0</td>\n",
       "      <td>0</td>\n",
       "      <td>0.127293</td>\n",
       "    </tr>\n",
       "    <tr>\n",
       "      <th>1244</th>\n",
       "      <td>0</td>\n",
       "      <td>187</td>\n",
       "      <td>4.90</td>\n",
       "      <td>672</td>\n",
       "      <td>7.47</td>\n",
       "      <td>0</td>\n",
       "      <td>1</td>\n",
       "      <td>0.161434</td>\n",
       "    </tr>\n",
       "    <tr>\n",
       "      <th>804</th>\n",
       "      <td>0</td>\n",
       "      <td>167</td>\n",
       "      <td>4.53</td>\n",
       "      <td>707</td>\n",
       "      <td>4.70</td>\n",
       "      <td>1</td>\n",
       "      <td>0</td>\n",
       "      <td>0.137047</td>\n",
       "    </tr>\n",
       "    <tr>\n",
       "      <th>747</th>\n",
       "      <td>0</td>\n",
       "      <td>130</td>\n",
       "      <td>4.72</td>\n",
       "      <td>702</td>\n",
       "      <td>1.31</td>\n",
       "      <td>1</td>\n",
       "      <td>0</td>\n",
       "      <td>0.116364</td>\n",
       "    </tr>\n",
       "    <tr>\n",
       "      <th>3161</th>\n",
       "      <td>0</td>\n",
       "      <td>34</td>\n",
       "      <td>4.63</td>\n",
       "      <td>677</td>\n",
       "      <td>12.16</td>\n",
       "      <td>1</td>\n",
       "      <td>0</td>\n",
       "      <td>0.146465</td>\n",
       "    </tr>\n",
       "  </tbody>\n",
       "</table>\n",
       "</div>"
      ],
      "text/plain": [
       "      default  installment  log_income  fico_score  rev_balance  inquiries  \\\n",
       "6384        1          476        5.06         702        27.02          0   \n",
       "1244        0          187        4.90         672         7.47          0   \n",
       "804         0          167        4.53         707         4.70          1   \n",
       "747         0          130        4.72         702         1.31          1   \n",
       "3161        0           34        4.63         677        12.16          1   \n",
       "\n",
       "      records  predicted_probability  \n",
       "6384        0               0.127293  \n",
       "1244        1               0.161434  \n",
       "804         0               0.137047  \n",
       "747         0               0.116364  \n",
       "3161        0               0.146465  "
      ]
     },
     "execution_count": 44,
     "metadata": {},
     "output_type": "execute_result"
    }
   ],
   "source": [
    "preds = est.predict(df_test)\n",
    "df_test['predicted_probability']= preds\n",
    "df_test.head()"
   ]
  },
  {
   "cell_type": "code",
   "execution_count": 46,
   "id": "ad55dfc2-14d4-4b12-8bfa-819b51e07df5",
   "metadata": {},
   "outputs": [],
   "source": [
    "#add a new column will default to include the raws where the default probability is high. \n",
    "df_test['will_default']= np.where(df_test['predicted_probability']>0.25, 1, 0)"
   ]
  },
  {
   "cell_type": "code",
   "execution_count": null,
   "id": "183db0dd-0aa0-4468-a80e-835452e86094",
   "metadata": {},
   "outputs": [],
   "source": []
  },
  {
   "cell_type": "code",
   "execution_count": null,
   "id": "91bb4654-9f81-43ec-859b-b82ee5751be5",
   "metadata": {},
   "outputs": [],
   "source": []
  },
  {
   "cell_type": "code",
   "execution_count": 47,
   "id": "f7ad672b-1ddf-488f-a00b-7e3ae59cfff4",
   "metadata": {},
   "outputs": [
    {
     "name": "stdout",
     "output_type": "stream",
     "text": [
      "      default  installment  log_income  fico_score  rev_balance  inquiries  \\\n",
      "6384        1          476        5.06         702        27.02          0   \n",
      "1244        0          187        4.90         672         7.47          0   \n",
      "804         0          167        4.53         707         4.70          1   \n",
      "747         0          130        4.72         702         1.31          1   \n",
      "3161        0           34        4.63         677        12.16          1   \n",
      "...       ...          ...         ...         ...          ...        ...   \n",
      "6114        1          766        4.89         742        26.55          2   \n",
      "3536        0          477        4.86         782         4.25          0   \n",
      "8913        0          376        4.62         692         2.22          4   \n",
      "8559        0          256        4.80         687        29.83          7   \n",
      "5656        0          866        5.05         707        79.75          0   \n",
      "\n",
      "      records  predicted_probability  will_default  \n",
      "6384        0               0.127293             0  \n",
      "1244        1               0.161434             0  \n",
      "804         0               0.137047             0  \n",
      "747         0               0.116364             0  \n",
      "3161        0               0.146465             0  \n",
      "...       ...                    ...           ...  \n",
      "6114        0               0.170133             0  \n",
      "3536        0               0.068070             0  \n",
      "8913        0               0.230815             0  \n",
      "8559        0               0.274233             1  \n",
      "5656        0               0.223638             0  \n",
      "\n",
      "[2855 rows x 9 columns]\n"
     ]
    }
   ],
   "source": [
    "df_test['will_default'] = np.where(df_test['predicted_probability']>0.25, 1, 0)\n",
    "print(df_test)"
   ]
  },
  {
   "cell_type": "markdown",
   "id": "b6f0ffc0-d999-4694-ba16-c1f16a2ce0e3",
   "metadata": {},
   "source": [
    "Evaluate the model's prefromance on test data with a Confusion Matrix"
   ]
  },
  {
   "cell_type": "code",
   "execution_count": 48,
   "id": "4d0d8d01-943f-4fad-ad9b-1887e375ad6f",
   "metadata": {},
   "outputs": [
    {
     "name": "stdout",
     "output_type": "stream",
     "text": [
      "[[2217  186]\n",
      " [ 339  113]]\n"
     ]
    }
   ],
   "source": [
    "#This confusion matrix displays actual vs. predicted values\n",
    "matrix= confusion_matrix(df_test['default'], df_test[\"will_default\"])\n",
    "print(matrix)"
   ]
  },
  {
   "cell_type": "code",
   "execution_count": 49,
   "id": "4f386277-6ada-4ba2-97a3-f0580ddb9c67",
   "metadata": {},
   "outputs": [
    {
     "data": {
      "text/plain": [
       "<Axes: >"
      ]
     },
     "execution_count": 49,
     "metadata": {},
     "output_type": "execute_result"
    },
    {
     "data": {
      "image/png": "[encoded data removed]",
      "text/plain": [
       "<Figure size 640x480 with 2 Axes>"
      ]
     },
     "metadata": {},
     "output_type": "display_data"
    }
   ],
   "source": [
    "#create a heatmap of the confusion matrix, and accuracy of the model\n",
    "sns.heatmap(matrix/np.sum(matrix), annot=True, fmt = '.2%', cmap='Blues')"
   ]
  },
  {
   "cell_type": "code",
   "execution_count": 50,
   "id": "7f514b73-4547-472a-8e92-cd649c029ad5",
   "metadata": {},
   "outputs": [
    {
     "data": {
      "text/plain": [
       "<Axes: >"
      ]
     },
     "execution_count": 50,
     "metadata": {},
     "output_type": "execute_result"
    },
    {
     "data": {
      "image/png": "[encoded data removed]",
      "text/plain": [
       "<Figure size 640x480 with 2 Axes>"
      ]
     },
     "metadata": {},
     "output_type": "display_data"
    }
   ],
   "source": [
    "#add labels to the heatmpat\n",
    "labels= [\"True Neg\", \"False Pos\", \"False Neg\", \"True Pos\"]\n",
    "labels= np.asarray(labels).reshape(2,2)\n",
    "sns.heatmap(matrix, annot=labels, fmt=\"\", cmap= 'Blues')"
   ]
  },
  {
   "cell_type": "code",
   "execution_count": 51,
   "id": "70652316-31d2-4138-ba58-eb5967e26285",
   "metadata": {},
   "outputs": [
    {
     "name": "stdout",
     "output_type": "stream",
     "text": [
      "Accuracy:0.8161120840630472\n"
     ]
    }
   ],
   "source": [
    "#print model accuracy score\n",
    "print('Accuracy:' + str(accuracy_score(df_test['default'], df_test['will_default'])))"
   ]
  },
  {
   "cell_type": "markdown",
   "id": "3a6bd7be-78ea-4269-9e2a-99a439fdf7c5",
   "metadata": {},
   "source": [
    "Conclusion\n",
    "See the README file for more on this model. "
   ]
  }
 ],
 "metadata": {
  "kernelspec": {
   "display_name": "my_env1",
   "language": "python",
   "name": "my_env1"
  },
  "language_info": {
   "codemirror_mode": {
    "name": "ipython",
    "version": 3
   },
   "file_extension": ".py",
   "mimetype": "text/x-python",
   "name": "python",
   "nbconvert_exporter": "python",
   "pygments_lexer": "ipython3",
   "version": "3.12.9"
  }
 },
 "nbformat": 4,
 "nbformat_minor": 5
}
